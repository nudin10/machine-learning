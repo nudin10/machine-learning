{
 "cells": [
  {
   "cell_type": "code",
   "execution_count": 3,
   "metadata": {},
   "outputs": [],
   "source": [
    "import numpy as np\n",
    "\n",
    "arr = np.array([[0], [2]])"
   ]
  },
  {
   "cell_type": "code",
   "execution_count": 4,
   "metadata": {},
   "outputs": [
    {
     "data": {
      "text/plain": [
       "array([[0],\n",
       "       [2]])"
      ]
     },
     "execution_count": 4,
     "metadata": {},
     "output_type": "execute_result"
    }
   ],
   "source": [
    "arr"
   ]
  },
  {
   "cell_type": "code",
   "execution_count": 5,
   "metadata": {},
   "outputs": [],
   "source": [
    "arr2 = np.ones((10, 10))"
   ]
  },
  {
   "cell_type": "code",
   "execution_count": 6,
   "metadata": {},
   "outputs": [
    {
     "data": {
      "text/plain": [
       "array([[1., 1., 1., 1., 1., 1., 1., 1., 1., 1.],\n",
       "       [1., 1., 1., 1., 1., 1., 1., 1., 1., 1.],\n",
       "       [1., 1., 1., 1., 1., 1., 1., 1., 1., 1.],\n",
       "       [1., 1., 1., 1., 1., 1., 1., 1., 1., 1.],\n",
       "       [1., 1., 1., 1., 1., 1., 1., 1., 1., 1.],\n",
       "       [1., 1., 1., 1., 1., 1., 1., 1., 1., 1.],\n",
       "       [1., 1., 1., 1., 1., 1., 1., 1., 1., 1.],\n",
       "       [1., 1., 1., 1., 1., 1., 1., 1., 1., 1.],\n",
       "       [1., 1., 1., 1., 1., 1., 1., 1., 1., 1.],\n",
       "       [1., 1., 1., 1., 1., 1., 1., 1., 1., 1.]])"
      ]
     },
     "execution_count": 6,
     "metadata": {},
     "output_type": "execute_result"
    }
   ],
   "source": [
    "arr2"
   ]
  },
  {
   "cell_type": "code",
   "execution_count": 7,
   "metadata": {},
   "outputs": [
    {
     "data": {
      "text/plain": [
       "(10, 10)"
      ]
     },
     "execution_count": 7,
     "metadata": {},
     "output_type": "execute_result"
    }
   ],
   "source": [
    "arr2.shape"
   ]
  },
  {
   "cell_type": "code",
   "execution_count": 15,
   "metadata": {},
   "outputs": [
    {
     "data": {
      "text/plain": [
       "array([[0., 0., 0., 0., 0., 0., 0., 0., 0., 0.],\n",
       "       [0., 0., 0., 0., 0., 0., 0., 0., 0., 0.],\n",
       "       [0., 0., 0., 0., 0., 0., 0., 0., 0., 0.],\n",
       "       [0., 0., 0., 0., 0., 0., 0., 0., 0., 0.],\n",
       "       [0., 0., 0., 0., 0., 0., 0., 0., 0., 0.],\n",
       "       [0., 0., 0., 0., 0., 0., 0., 0., 0., 0.],\n",
       "       [0., 0., 0., 0., 0., 0., 0., 0., 0., 0.],\n",
       "       [0., 0., 0., 0., 0., 0., 0., 0., 0., 0.],\n",
       "       [0., 0., 0., 0., 0., 0., 0., 0., 0., 0.],\n",
       "       [0., 0., 0., 0., 0., 0., 0., 0., 0., 0.]], dtype=float16)"
      ]
     },
     "execution_count": 15,
     "metadata": {},
     "output_type": "execute_result"
    }
   ],
   "source": [
    "arr3 = np.zeros((10,10), dtype=\"float16\")\n",
    "arr3"
   ]
  },
  {
   "cell_type": "code",
   "execution_count": 17,
   "metadata": {},
   "outputs": [
    {
     "data": {
      "text/plain": [
       "array([1., 1., 1., 1., 1., 1., 1., 1., 1., 1., 0., 0., 0., 0., 0., 0., 0.,\n",
       "       0., 0., 0.])"
      ]
     },
     "execution_count": 17,
     "metadata": {},
     "output_type": "execute_result"
    }
   ],
   "source": [
    "np.c_[arr2, arr3][0]"
   ]
  },
  {
   "cell_type": "code",
   "execution_count": 19,
   "metadata": {},
   "outputs": [
    {
     "data": {
      "text/plain": [
       "array([[1., 1., 1., 1., 1., 1., 1., 1., 1., 1.],\n",
       "       [1., 1., 1., 1., 1., 1., 1., 1., 1., 1.],\n",
       "       [1., 1., 1., 1., 1., 1., 1., 1., 1., 1.],\n",
       "       [1., 1., 1., 1., 1., 1., 1., 1., 1., 1.],\n",
       "       [1., 1., 1., 1., 1., 1., 1., 1., 1., 1.],\n",
       "       [1., 1., 1., 1., 1., 1., 1., 1., 1., 1.],\n",
       "       [1., 1., 1., 1., 1., 1., 1., 1., 1., 1.],\n",
       "       [1., 1., 1., 1., 1., 1., 1., 1., 1., 1.],\n",
       "       [1., 1., 1., 1., 1., 1., 1., 1., 1., 1.],\n",
       "       [1., 1., 1., 1., 1., 1., 1., 1., 1., 1.]])"
      ]
     },
     "execution_count": 19,
     "metadata": {},
     "output_type": "execute_result"
    }
   ],
   "source": [
    "[arr2, arr3][0]"
   ]
  },
  {
   "cell_type": "code",
   "execution_count": 24,
   "metadata": {},
   "outputs": [],
   "source": [
    "arr4 = np.full((5, 5), fill_value=[1, 2, 3, 4, 5], dtype=\"float32\")"
   ]
  },
  {
   "cell_type": "code",
   "execution_count": 25,
   "metadata": {},
   "outputs": [
    {
     "data": {
      "text/plain": [
       "array([[1., 2., 3., 4., 5.],\n",
       "       [1., 2., 3., 4., 5.],\n",
       "       [1., 2., 3., 4., 5.],\n",
       "       [1., 2., 3., 4., 5.],\n",
       "       [1., 2., 3., 4., 5.]], dtype=float32)"
      ]
     },
     "execution_count": 25,
     "metadata": {},
     "output_type": "execute_result"
    }
   ],
   "source": [
    "arr4"
   ]
  },
  {
   "cell_type": "code",
   "execution_count": 27,
   "metadata": {},
   "outputs": [
    {
     "data": {
      "text/plain": [
       "array([[1., 2., 3., 4., 5., 1., 2., 3., 4., 5.],\n",
       "       [1., 2., 3., 4., 5., 1., 2., 3., 4., 5.],\n",
       "       [1., 2., 3., 4., 5., 1., 2., 3., 4., 5.],\n",
       "       [1., 2., 3., 4., 5., 1., 2., 3., 4., 5.],\n",
       "       [1., 2., 3., 4., 5., 1., 2., 3., 4., 5.]], dtype=float32)"
      ]
     },
     "execution_count": 27,
     "metadata": {},
     "output_type": "execute_result"
    }
   ],
   "source": [
    "np.c_[arr4, arr4]"
   ]
  },
  {
   "cell_type": "code",
   "execution_count": 28,
   "metadata": {},
   "outputs": [
    {
     "data": {
      "text/plain": [
       "array([[1, 4],\n",
       "       [2, 5],\n",
       "       [3, 6]])"
      ]
     },
     "execution_count": 28,
     "metadata": {},
     "output_type": "execute_result"
    }
   ],
   "source": [
    "np.c_[np.array([1,2,3]), np.array([4,5,6])]"
   ]
  },
  {
   "cell_type": "code",
   "execution_count": 34,
   "metadata": {},
   "outputs": [
    {
     "data": {
      "text/plain": [
       "array([[   1,   11,    6,   66],\n",
       "       [   2,   22,    7,   77],\n",
       "       [   3,   33,    8,   88],\n",
       "       [   4,   44,    9,   99],\n",
       "       [   5,   55,   10, 1010]])"
      ]
     },
     "execution_count": 34,
     "metadata": {},
     "output_type": "execute_result"
    }
   ],
   "source": [
    "np.c_[np.array([[1, 11], [2,22], [3,33], [4, 44], [5, 55]]), np.array([[6, 66], [7,77], [8,88], [9,99], [10,1010]])]"
   ]
  },
  {
   "cell_type": "code",
   "execution_count": 35,
   "metadata": {},
   "outputs": [
    {
     "data": {
      "text/plain": [
       "array([[   1,   11],\n",
       "       [   2,   22],\n",
       "       [   3,   33],\n",
       "       [   4,   44],\n",
       "       [   5,   55],\n",
       "       [   6,   66],\n",
       "       [   7,   77],\n",
       "       [   8,   88],\n",
       "       [   9,   99],\n",
       "       [  10, 1010]])"
      ]
     },
     "execution_count": 35,
     "metadata": {},
     "output_type": "execute_result"
    }
   ],
   "source": [
    "np.r_[np.array([[1, 11], [2,22], [3,33], [4, 44], [5, 55]]), np.array([[6, 66], [7,77], [8,88], [9,99], [10,1010]])]"
   ]
  },
  {
   "cell_type": "code",
   "execution_count": 36,
   "metadata": {},
   "outputs": [],
   "source": [
    "X = 2 * np.random.rand(100, 1)"
   ]
  },
  {
   "cell_type": "code",
   "execution_count": 37,
   "metadata": {},
   "outputs": [
    {
     "data": {
      "text/plain": [
       "array([[1.89599282],\n",
       "       [0.40579177],\n",
       "       [1.23745843],\n",
       "       [1.57214843],\n",
       "       [0.52890222],\n",
       "       [0.00788481],\n",
       "       [0.61055498],\n",
       "       [1.16164886],\n",
       "       [1.50157336],\n",
       "       [0.11883498],\n",
       "       [0.03948808],\n",
       "       [1.79222804],\n",
       "       [1.39627946],\n",
       "       [1.3361849 ],\n",
       "       [1.03181901],\n",
       "       [0.32010957],\n",
       "       [0.73558868],\n",
       "       [0.08884502],\n",
       "       [1.65126124],\n",
       "       [1.12147237],\n",
       "       [0.58257592],\n",
       "       [0.30250215],\n",
       "       [1.89988975],\n",
       "       [1.12809624],\n",
       "       [0.62997348],\n",
       "       [0.93289419],\n",
       "       [1.16079957],\n",
       "       [1.01465565],\n",
       "       [1.2909621 ],\n",
       "       [0.33876621],\n",
       "       [0.59757159],\n",
       "       [1.92359014],\n",
       "       [0.20809919],\n",
       "       [1.84912386],\n",
       "       [0.17605053],\n",
       "       [0.11792392],\n",
       "       [1.31424245],\n",
       "       [0.14257948],\n",
       "       [0.14246638],\n",
       "       [0.78131874],\n",
       "       [0.45957934],\n",
       "       [0.76975719],\n",
       "       [1.13073207],\n",
       "       [1.35295494],\n",
       "       [1.16271488],\n",
       "       [0.38137391],\n",
       "       [1.74048742],\n",
       "       [0.47141994],\n",
       "       [0.03496189],\n",
       "       [0.57736999],\n",
       "       [0.574077  ],\n",
       "       [0.40695956],\n",
       "       [1.20856843],\n",
       "       [0.11461028],\n",
       "       [1.07231844],\n",
       "       [1.39725735],\n",
       "       [1.30711726],\n",
       "       [1.3323935 ],\n",
       "       [1.58967018],\n",
       "       [1.37845762],\n",
       "       [1.73942135],\n",
       "       [1.40530801],\n",
       "       [1.69127491],\n",
       "       [1.25325911],\n",
       "       [1.57479567],\n",
       "       [0.14211333],\n",
       "       [1.69308374],\n",
       "       [0.71105886],\n",
       "       [0.70557864],\n",
       "       [0.21576838],\n",
       "       [1.88909161],\n",
       "       [0.11606564],\n",
       "       [0.94312146],\n",
       "       [1.97964465],\n",
       "       [1.24727428],\n",
       "       [1.82459726],\n",
       "       [0.09845744],\n",
       "       [0.56211108],\n",
       "       [1.49966847],\n",
       "       [1.73159423],\n",
       "       [1.03003932],\n",
       "       [1.7616967 ],\n",
       "       [0.05374347],\n",
       "       [0.56559837],\n",
       "       [0.90906776],\n",
       "       [1.18153047],\n",
       "       [0.4413207 ],\n",
       "       [0.12296314],\n",
       "       [0.11859646],\n",
       "       [1.68953099],\n",
       "       [0.22453975],\n",
       "       [1.43420939],\n",
       "       [1.72764304],\n",
       "       [1.34973078],\n",
       "       [0.4331205 ],\n",
       "       [0.68857929],\n",
       "       [0.26026792],\n",
       "       [1.77309812],\n",
       "       [0.79934793],\n",
       "       [1.27668269]])"
      ]
     },
     "execution_count": 37,
     "metadata": {},
     "output_type": "execute_result"
    }
   ],
   "source": [
    "X"
   ]
  },
  {
   "cell_type": "code",
   "execution_count": 42,
   "metadata": {},
   "outputs": [
    {
     "data": {
      "text/plain": [
       "(2, 1, 2)"
      ]
     },
     "execution_count": 42,
     "metadata": {},
     "output_type": "execute_result"
    }
   ],
   "source": [
    "arr5=np.array([[[0,0]],[[1,1]]]).shape\n",
    "arr5"
   ]
  },
  {
   "cell_type": "code",
   "execution_count": 45,
   "metadata": {},
   "outputs": [
    {
     "data": {
      "text/plain": [
       "array([[1., 0.],\n",
       "       [1., 0.],\n",
       "       [1., 0.]])"
      ]
     },
     "execution_count": 45,
     "metadata": {},
     "output_type": "execute_result"
    }
   ],
   "source": [
    "tst1 = np.c_[np.ones((3,1)), np.zeros((3,1))]\n",
    "tst1"
   ]
  },
  {
   "cell_type": "code",
   "execution_count": 47,
   "metadata": {},
   "outputs": [
    {
     "data": {
      "text/plain": [
       "array([[1.],\n",
       "       [1.],\n",
       "       [1.]])"
      ]
     },
     "execution_count": 47,
     "metadata": {},
     "output_type": "execute_result"
    }
   ],
   "source": [
    "np.ones((3,1))"
   ]
  },
  {
   "cell_type": "code",
   "execution_count": 48,
   "metadata": {},
   "outputs": [
    {
     "data": {
      "text/plain": [
       "array([[0.],\n",
       "       [0.],\n",
       "       [0.]])"
      ]
     },
     "execution_count": 48,
     "metadata": {},
     "output_type": "execute_result"
    }
   ],
   "source": [
    "np.zeros((3,1))"
   ]
  },
  {
   "cell_type": "code",
   "execution_count": 51,
   "metadata": {},
   "outputs": [
    {
     "data": {
      "text/plain": [
       "array([[[1., 1.]],\n",
       "\n",
       "       [[1., 1.]],\n",
       "\n",
       "       [[1., 1.]]])"
      ]
     },
     "execution_count": 51,
     "metadata": {},
     "output_type": "execute_result"
    }
   ],
   "source": [
    "np.ones((3,1,2))"
   ]
  },
  {
   "cell_type": "code",
   "execution_count": 53,
   "metadata": {},
   "outputs": [
    {
     "data": {
      "text/plain": [
       "array([[[1., 1., 0., 0.]],\n",
       "\n",
       "       [[1., 1., 0., 0.]],\n",
       "\n",
       "       [[1., 1., 0., 0.]]])"
      ]
     },
     "execution_count": 53,
     "metadata": {},
     "output_type": "execute_result"
    }
   ],
   "source": [
    "tst2 = np.c_[np.ones((3,1,2)), np.zeros((3,1,2))]\n",
    "tst2"
   ]
  },
  {
   "cell_type": "code",
   "execution_count": null,
   "metadata": {},
   "outputs": [],
   "source": []
  }
 ],
 "metadata": {
  "kernelspec": {
   "display_name": "venv",
   "language": "python",
   "name": "python3"
  },
  "language_info": {
   "codemirror_mode": {
    "name": "ipython",
    "version": 3
   },
   "file_extension": ".py",
   "mimetype": "text/x-python",
   "name": "python",
   "nbconvert_exporter": "python",
   "pygments_lexer": "ipython3",
   "version": "3.12.0"
  }
 },
 "nbformat": 4,
 "nbformat_minor": 2
}
