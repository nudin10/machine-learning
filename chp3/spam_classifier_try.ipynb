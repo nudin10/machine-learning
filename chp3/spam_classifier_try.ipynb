{
 "cells": [
  {
   "cell_type": "code",
   "execution_count": 40,
   "metadata": {},
   "outputs": [
    {
     "name": "stdout",
     "output_type": "stream",
     "text": [
      "Data already extracted\n"
     ]
    }
   ],
   "source": [
    "import os\n",
    "import bz2\n",
    "\n",
    "ROOT = os.path.join(os.path.dirname(os.path.dirname(os.path.abspath(\"\"))), \"machine-learning\")\n",
    "DATASET_P = os.path.join(ROOT, \"datasets\\\\spam_classifier\")\n",
    "RAW_DATASET_P = os.path.join(DATASET_P, \"raw\")\n",
    "EXTRACTED_DATASET_P = os.path.join(DATASET_P, \"extracted\")\n",
    "PROCESSED_DATASET_P = os.path.join(DATASET_P, \"processed\")\n",
    "\n",
    "def extract_data_from_bzf(source: str, destination: str, extension: str):\n",
    "    if not extension.startswith(\".\"):\n",
    "        raise ValueError(\"extension must begin with a .\")\n",
    "    if os.listdir(destination) == []:\n",
    "        print(\"Dataset has not been extracted\")\n",
    "        print(\"Extracting...\")\n",
    "        for f in os.listdir(source):\n",
    "            decompressor = bz2.BZ2Decompressor()\n",
    "            source_path = os.path.join(source, f)\n",
    "            extraction_path = os.path.join(destination, f + extension)\n",
    "            with open(extraction_path, 'wb') as bzfw, open(source_path, 'rb') as bzfr:\n",
    "                for data in iter(lambda: bzfr.read(100*1024), b''):\n",
    "                    bzfw.write(decompressor.decompress(data))\n",
    "    else:\n",
    "        print(\"Data already extracted\")\n",
    "        \n",
    "extract_data_from_bzf(RAW_DATASET_P, EXTRACTED_DATASET_P, \".txt\")"
   ]
  },
  {
   "cell_type": "code",
   "execution_count": 41,
   "metadata": {},
   "outputs": [],
   "source": [
    "def sanitize_data_from_extracted(source: str, destination: str):\n",
    "    for file_name in os.listdir(source):\n",
    "        read_path = source + \"\\\\\" + file_name\n",
    "        write_path = destination + \"\\\\\" + file_name\n",
    "        with open(read_path, 'r',encoding='latin1') as rf:\n",
    "            with open(write_path, 'w', encoding='latin1') as wf:\n",
    "                lines = rf.readlines()\n",
    "                for line in lines:\n",
    "                    processed_line = line.replace(\"\\x00\", \"\").replace(\"\\n\", \"\").replace(\"\\t\", \"\")\n",
    "                    # processed_line = line.replace(\"\\x00\", \"\")\n",
    "                    wf.write(processed_line)\n",
    "\n",
    "sanitize_data_from_extracted(EXTRACTED_DATASET_P, PROCESSED_DATASET_P)\n"
   ]
  },
  {
   "cell_type": "code",
   "execution_count": 42,
   "metadata": {},
   "outputs": [],
   "source": [
    "segment_markers = [\"easy_ham/\", \"easy_ham2/\", \"hard_ham/\", \"spam/\", \"spam_2/\"]"
   ]
  },
  {
   "cell_type": "code",
   "execution_count": 86,
   "metadata": {},
   "outputs": [
    {
     "data": {
      "text/plain": [
       "['spam_2/0000775000175000017500000000000010214426762011303 5ustar  jmjm00000000000000spam_2/00001.317e78fa8ee2f54cd4890fdc09ba81760000664000175000017500000001116107627640277016365 0ustar  jmjm00000000000000']"
      ]
     },
     "execution_count": 86,
     "metadata": {},
     "output_type": "execute_result"
    }
   ],
   "source": [
    "import re\n",
    "\n",
    "pt = r\"^(spam_2\\/[\\w\\s\\d\\\\.\\/]+)(?=From)\"\n",
    "re.findall(pt, \"spam_2/0000775000175000017500000000000010214426762011303 5ustar  jmjm00000000000000spam_2/00001.317e78fa8ee2f54cd4890fdc09ba81760000664000175000017500000001116107627640277016365 0ustar  jmjm00000000000000From\")"
   ]
  },
  {
   "cell_type": "code",
   "execution_count": 82,
   "metadata": {},
   "outputs": [
    {
     "data": {
      "text/plain": [
       "['spam_2/0000775000175000017500000000000010214426762011303 5ustar  jmjm00000000000000spam_2/00001.317e78fa8ee2f54cd4890fdc09ba81760000664000175000017500000001116107627640277016365 0ustar  jmjm00000000000000']"
      ]
     },
     "execution_count": 82,
     "metadata": {},
     "output_type": "execute_result"
    }
   ],
   "source": [
    "re.findall(pt, \"spam_2/0000775000175000017500000000000010214426762011303 5ustar  jmjm00000000000000spam_2/00001.317e78fa8ee2f54cd4890fdc09ba81760000664000175000017500000001116107627640277016365 0ustar  jmjm00000000000000From\")\n",
    "# re.fullmatch(pt, \"spam_2/0000775000175000017500000000000010214426762011303 5ustar  jmjm00000000000000spam_2/00001.317e78fa8ee2f54cd4890fdc09ba81760000664000175000017500000001116107627640277016365 0ustar  jmjm00000000000000From\")"
   ]
  },
  {
   "cell_type": "code",
   "execution_count": 83,
   "metadata": {},
   "outputs": [],
   "source": [
    "import pandas as pd\n",
    "\n",
    "def read_data_into_dataframe(source: str) -> pd.DataFrame:\n",
    "    texts = []\n",
    "    for file in os.listdir(source):\n",
    "        read_path = source + \"\\\\\" + file\n",
    "        with open(read_path, 'r', encoding='latin1') as f:\n",
    "            raw = f.read()\n",
    "            texts = re.split(pt, raw)\n",
    "    return pd.DataFrame(texts)"
   ]
  },
  {
   "cell_type": "code",
   "execution_count": 84,
   "metadata": {},
   "outputs": [
    {
     "data": {
      "text/html": [
       "<div>\n",
       "<style scoped>\n",
       "    .dataframe tbody tr th:only-of-type {\n",
       "        vertical-align: middle;\n",
       "    }\n",
       "\n",
       "    .dataframe tbody tr th {\n",
       "        vertical-align: top;\n",
       "    }\n",
       "\n",
       "    .dataframe thead th {\n",
       "        text-align: right;\n",
       "    }\n",
       "</style>\n",
       "<table border=\"1\" class=\"dataframe\">\n",
       "  <thead>\n",
       "    <tr style=\"text-align: right;\">\n",
       "      <th></th>\n",
       "      <th>0</th>\n",
       "    </tr>\n",
       "  </thead>\n",
       "  <tbody>\n",
       "    <tr>\n",
       "      <th>0</th>\n",
       "      <td></td>\n",
       "    </tr>\n",
       "    <tr>\n",
       "      <th>1</th>\n",
       "      <td>spam_2/000077500017500001750000000000001021442...</td>\n",
       "    </tr>\n",
       "    <tr>\n",
       "      <th>2</th>\n",
       "      <td>From ilug-admin@linux.ie  Tue Aug  6 11:51:02 ...</td>\n",
       "    </tr>\n",
       "  </tbody>\n",
       "</table>\n",
       "</div>"
      ],
      "text/plain": [
       "                                                   0\n",
       "0                                                   \n",
       "1  spam_2/000077500017500001750000000000001021442...\n",
       "2  From ilug-admin@linux.ie  Tue Aug  6 11:51:02 ..."
      ]
     },
     "execution_count": 84,
     "metadata": {},
     "output_type": "execute_result"
    }
   ],
   "source": [
    "df = read_data_into_dataframe(PROCESSED_DATASET_P)\n",
    "df"
   ]
  },
  {
   "cell_type": "code",
   "execution_count": 76,
   "metadata": {},
   "outputs": [],
   "source": [
    "# preview\n",
    "with open(DATASET_P + \"preview.txt\", 'w') as f:\n",
    "    f.write(str(df.loc[2].values))"
   ]
  },
  {
   "cell_type": "code",
   "execution_count": null,
   "metadata": {},
   "outputs": [],
   "source": []
  }
 ],
 "metadata": {
  "kernelspec": {
   "display_name": "venv",
   "language": "python",
   "name": "python3"
  },
  "language_info": {
   "codemirror_mode": {
    "name": "ipython",
    "version": 3
   },
   "file_extension": ".py",
   "mimetype": "text/x-python",
   "name": "python",
   "nbconvert_exporter": "python",
   "pygments_lexer": "ipython3",
   "version": "3.9.7"
  }
 },
 "nbformat": 4,
 "nbformat_minor": 2
}
