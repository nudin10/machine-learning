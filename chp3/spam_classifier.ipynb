{
 "cells": [
  {
   "cell_type": "code",
   "execution_count": 17,
   "metadata": {},
   "outputs": [
    {
     "name": "stdout",
     "output_type": "stream",
     "text": [
      "Dataset has not been extracted\n",
      "Extracting...\n"
     ]
    }
   ],
   "source": [
    "import os\n",
    "import bz2\n",
    "\n",
    "ROOT = os.path.join(os.path.dirname(os.path.dirname(os.path.abspath(\"\"))), \"machine-learning\")\n",
    "DATASET_P = os.path.join(ROOT, \"datasets\\\\spam_classifier\")\n",
    "RAW_DATASET_P = os.path.join(DATASET_P, \"raw\")\n",
    "EXTRACTED_DATASET_P = os.path.join(DATASET_P, \"extracted\")\n",
    "\n",
    "def extract_dataset_from_bzf(source: str, destination: str):\n",
    "    if os.listdir(destination) == []:\n",
    "        print(\"Dataset has not been extracted\")\n",
    "        print(\"Extracting...\")\n",
    "        for f in os.listdir(source):\n",
    "            decompressor = bz2.BZ2Decompressor()\n",
    "            source_path = os.path.join(source, f)\n",
    "            extraction_path = os.path.join(destination, f + '.decompressed')\n",
    "            with open(extraction_path, 'wb') as bzfw, open(source_path, 'rb') as bzfr:\n",
    "                for data in iter(lambda: bzfr.read(100*1024), b''):\n",
    "                    bzfw.write(decompressor.decompress(data))\n",
    "    else:\n",
    "        print(\"Data already extracted\")\n",
    "\n",
    "extract_dataset_from_bzf(RAW_DATASET_P, EXTRACTED_DATASET_P)\n"
   ]
  },
  {
   "cell_type": "code",
   "execution_count": null,
   "metadata": {},
   "outputs": [],
   "source": []
  }
 ],
 "metadata": {
  "kernelspec": {
   "display_name": "venv",
   "language": "python",
   "name": "python3"
  },
  "language_info": {
   "codemirror_mode": {
    "name": "ipython",
    "version": 3
   },
   "file_extension": ".py",
   "mimetype": "text/x-python",
   "name": "python",
   "nbconvert_exporter": "python",
   "pygments_lexer": "ipython3",
   "version": "3.9.7"
  }
 },
 "nbformat": 4,
 "nbformat_minor": 2
}
